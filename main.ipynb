{
 "cells": [
  {
   "cell_type": "code",
   "execution_count": 1,
   "metadata": {},
   "outputs": [
    {
     "name": "stderr",
     "output_type": "stream",
     "text": [
      "C:\\Users\\Devon Murray\\AppData\\Roaming\\Python\\Python311\\site-packages\\pandas\\core\\arrays\\masked.py:60: UserWarning: Pandas requires version '1.3.6' or newer of 'bottleneck' (version '1.3.5' currently installed).\n",
      "  from pandas.core import (\n"
     ]
    },
    {
     "name": "stdout",
     "output_type": "stream",
     "text": [
      "Singapore:\n",
      " count     7907.000000\n",
      "mean       169.332996\n",
      "std        340.187599\n",
      "min          0.000000\n",
      "25%         65.000000\n",
      "50%        124.000000\n",
      "75%        199.000000\n",
      "max      10000.000000\n",
      "Name: price, dtype: float64 \n",
      "\n",
      "NY:\n",
      " count    48895.000000\n",
      "mean       152.720687\n",
      "std        240.154170\n",
      "min          0.000000\n",
      "25%         69.000000\n",
      "50%        106.000000\n",
      "75%        175.000000\n",
      "max      10000.000000\n",
      "Name: price, dtype: float64 \n",
      "\n",
      "Madrid:\n",
      " count    19618.000000\n",
      "mean       129.271740\n",
      "std        484.143545\n",
      "min          0.000000\n",
      "25%         35.000000\n",
      "50%         58.000000\n",
      "75%        100.000000\n",
      "max       9999.000000\n",
      "Name: price, dtype: float64 \n",
      "\n"
     ]
    }
   ],
   "source": [
    "import pandas as pd\n",
    "import preprocessor_improved as prep_improved\n",
    "import preprocessor_baseline as prep_baseline\n",
    "from random_forest_regressor import random_forest_regressor\n",
    "from linear_regression import linear_regression\n",
    "from gbm import xg_boost\n",
    "from sklearn.model_selection import train_test_split\n",
    "import warnings\n",
    "import numpy as np\n",
    "warnings.filterwarnings('ignore')\n",
    "\n",
    "\n",
    "\n",
    "# Load the datasets\n",
    "singapore_df = pd.read_csv('datasets/singapore_listings.csv')\n",
    "ny_df = pd.read_csv('datasets/newyorkcity_listings.csv')\n",
    "madrid_df = pd.read_csv('datasets/madrid_listings.csv')\n",
    "\n",
    "\n",
    "# Checking the first few rows of each dataset to understand their structure\n",
    "\n",
    "singapore_description = singapore_df.describe()\n",
    "ny_description = ny_df.describe()\n",
    "madrid_description = madrid_df.describe()\n",
    "\n",
    "print(\"Singapore:\\n\", singapore_description['price'],\"\\n\")\n",
    "print(\"NY:\\n\",ny_description['price'], \"\\n\")\n",
    "print(\"Madrid:\\n\",madrid_description['price'], \"\\n\")\n",
    "\n"
   ]
  },
  {
   "cell_type": "markdown",
   "metadata": {},
   "source": [
    "### Baseline Preprocessing"
   ]
  },
  {
   "cell_type": "code",
   "execution_count": 2,
   "metadata": {},
   "outputs": [
    {
     "name": "stdout",
     "output_type": "stream",
     "text": [
      "Singapore\n",
      "Random Forest Regressor RMSE: 314.6523661198244, MAE: 79.01992836072482 Variance: -0.5381259410149648\n",
      "Linear Regression RMSE: 248.57254193395678, MAE: 84.68295482084284 Variance: 0.03840506709317548\n",
      "XGBoost RMSE: 297.173075536394, MAE: 82.90453602071558 Variance: -0.3734088639942439\n",
      "\n",
      "New York\n",
      "Random Forest Regressor RMSE: 194.6486545627655, MAE: 65.22322607766945 Variance: 0.06331150711888933\n",
      "Linear Regression RMSE: 185.19971902117396, MAE: 69.23408641346924 Variance: 0.15110002459484662\n",
      "XGBoost RMSE: 201.18260169021912, MAE: 66.17254536945876 Variance: -0.001461049180776941\n",
      "\n",
      "Madrid\n",
      "Random Forest Regressor RMSE: 532.889682371564, MAE: 117.15156095577885 Variance: -0.06102870688916795\n",
      "Linear Regression RMSE: 514.3537262176827, MAE: 124.29116131753781 Variance: 0.011576844518915497\n",
      "XGBoost RMSE: 531.4788951226592, MAE: 130.83596830765202 Variance: -0.05541062194781521\n"
     ]
    }
   ],
   "source": [
    "\n",
    "\n",
    "# Preprocess the data\n",
    "singapore_preproccessor, singapore_X, singapore_y = prep_baseline.preprocess_data(singapore_df)\n",
    "ny_preproccessor, ny_X, ny_y = prep_baseline.preprocess_data(ny_df)\n",
    "madrid_preproccessor, madrid_X, madrid_y = prep_baseline.preprocess_data(madrid_df)\n",
    "\n",
    "\n",
    "# Split the data into training and testing sets\n",
    "singapore_X_train, singapore_X_test, singapore_y_train, singapore_y_test = train_test_split(singapore_X, singapore_y, test_size=0.3, random_state=42)\n",
    "ny_X_train, ny_X_test, ny_y_train, ny_y_test = train_test_split(ny_X, ny_y, test_size=0.3, random_state=42)\n",
    "madrid_X_train, madrid_X_test, madrid_y_train, madrid_y_test = train_test_split(madrid_X, madrid_y, test_size=0.3, random_state=42)\n",
    "\n",
    "\n",
    "#Regression models for each city\n",
    "\n",
    "# Singapore\n",
    "rf_rsme, rf_mae, rf_variance = random_forest_regressor(singapore_X_train, singapore_X_test, singapore_y_train, singapore_y_test, singapore_preproccessor)\n",
    "lr_rsme, lr_mae, lr_variance = linear_regression(singapore_X_train, singapore_X_test, singapore_y_train, singapore_y_test, singapore_preproccessor)\n",
    "xg_rsme, xg_mae, xg_variance = xg_boost(singapore_X_train, singapore_X_test, singapore_y_train, singapore_y_test, singapore_preproccessor)\n",
    "\n",
    "print(\"Singapore\")\n",
    "print(f'Random Forest Regressor RMSE: {rf_rsme}, MAE: {rf_mae}', f'Variance: {rf_variance}')\n",
    "print(f'Linear Regression RMSE: {lr_rsme}, MAE: {lr_mae}', f'Variance: {lr_variance}')\n",
    "print(f'XGBoost RMSE: {xg_rsme}, MAE: {xg_mae}', f'Variance: {xg_variance}')\n",
    "\n",
    "\n",
    "# New York\n",
    "rf_rsme, rf_mae, rf_variance = random_forest_regressor(ny_X_train, ny_X_test, ny_y_train, ny_y_test, ny_preproccessor)\n",
    "lr_rsme, lr_mae, lr_variance = linear_regression(ny_X_train, ny_X_test, ny_y_train, ny_y_test, ny_preproccessor)\n",
    "xg_rsme, xg_mae, xg_variance = xg_boost(ny_X_train, ny_X_test, ny_y_train, ny_y_test, ny_preproccessor)\n",
    "\n",
    "\n",
    "print(\"\\nNew York\")\n",
    "print(f'Random Forest Regressor RMSE: {rf_rsme}, MAE: {rf_mae}', f'Variance: {rf_variance}')\n",
    "print(f'Linear Regression RMSE: {lr_rsme}, MAE: {lr_mae}', f'Variance: {lr_variance}')\n",
    "print(f'XGBoost RMSE: {xg_rsme}, MAE: {xg_mae}', f'Variance: {xg_variance}')\n",
    "\n",
    "\n",
    "# Madrid\n",
    "rf_rsme, rf_mae, rf_variance = random_forest_regressor(madrid_X_train, madrid_X_test, madrid_y_train, madrid_y_test, madrid_preproccessor)\n",
    "lr_rsme, lr_mae, lr_variance = linear_regression(madrid_X_train, madrid_X_test, madrid_y_train, madrid_y_test, madrid_preproccessor)\n",
    "xg_rsme, xg_mae, xg_variance = xg_boost(madrid_X_train, madrid_X_test, madrid_y_train, madrid_y_test, madrid_preproccessor)\n",
    "\n",
    "print(\"\\nMadrid\")\n",
    "print(f'Random Forest Regressor RMSE: {rf_rsme}, MAE: {rf_mae}', f'Variance: {rf_variance}')\n",
    "print(f'Linear Regression RMSE: {lr_rsme}, MAE: {lr_mae}', f'Variance: {lr_variance}')\n",
    "print(f'XGBoost RMSE: {xg_rsme}, MAE: {xg_mae}', f'Variance: {xg_variance}')\n",
    "\n",
    "\n",
    "\n"
   ]
  },
  {
   "cell_type": "markdown",
   "metadata": {},
   "source": [
    "### Improved Preprocessing (With Outlier Management)"
   ]
  },
  {
   "cell_type": "code",
   "execution_count": 3,
   "metadata": {},
   "outputs": [
    {
     "name": "stdout",
     "output_type": "stream",
     "text": [
      "Singapore\n",
      "Random Forest Regressor RMSE: 299.33771836158274, MAE: 74.1906998173901 Variance: -0.39389816836943137\n",
      "Linear Regression RMSE: 247.3652627527955, MAE: 83.57859503346596 Variance: 0.04754202363858451\n",
      "XGBoost RMSE: 270.5252413532664, MAE: 79.25427337291619 Variance: -0.13901608081378125\n",
      "\n",
      "New York\n",
      "Random Forest Regressor RMSE: 201.96148471085604, MAE: 67.36795714318177 Variance: -0.007887339839541374\n",
      "Linear Regression RMSE: 184.56610326779307, MAE: 68.96434298328653 Variance: 0.15696930071175952\n",
      "XGBoost RMSE: 210.45952217202074, MAE: 69.0994750487186 Variance: -0.09537339835808467\n",
      "\n",
      "Madrid\n",
      "Random Forest Regressor RMSE: 527.5800912613797, MAE: 118.01075490132628 Variance: -0.03998388999588043\n",
      "Linear Regression RMSE: 513.2398585620584, MAE: 123.98181595790206 Variance: 0.0158699023808333\n",
      "XGBoost RMSE: 545.3569300419205, MAE: 130.8661936843452 Variance: -0.11130465071545825\n"
     ]
    }
   ],
   "source": [
    "#Preprocess the data\n",
    "\n",
    "singapore_preproccessor, singapore_X, singapore_y = prep_improved.preprocess_data(singapore_df)\n",
    "ny_preproccessor, ny_X, ny_y = prep_improved.preprocess_data(ny_df)\n",
    "madrid_preproccessor, madrid_X, madrid_y = prep_improved.preprocess_data(madrid_df)\n",
    "\n",
    "\n",
    "# Split the data into training and testing sets\n",
    "singapore_X_train, singapore_X_test, singapore_y_train, singapore_y_test = train_test_split(singapore_X, singapore_y, test_size=0.3, random_state=42)\n",
    "ny_X_train, ny_X_test, ny_y_train, ny_y_test = train_test_split(ny_X, ny_y, test_size=0.3, random_state=42)\n",
    "madrid_X_train, madrid_X_test, madrid_y_train, madrid_y_test = train_test_split(madrid_X, madrid_y, test_size=0.3, random_state=42)\n",
    "\n",
    "#Regression models for each city\n",
    "# Singapore\n",
    "rf_rsme, rf_mae, rf_variance = random_forest_regressor(singapore_X_train, singapore_X_test, singapore_y_train, singapore_y_test, singapore_preproccessor)\n",
    "lr_rsme, lr_mae, lr_variance = linear_regression(singapore_X_train, singapore_X_test, singapore_y_train, singapore_y_test, singapore_preproccessor)\n",
    "xg_rsme, xg_mae, xg_variance = xg_boost(singapore_X_train, singapore_X_test, singapore_y_train, singapore_y_test, singapore_preproccessor)\n",
    "\n",
    "print(\"Singapore\")\n",
    "print(f'Random Forest Regressor RMSE: {rf_rsme}, MAE: {rf_mae}', f'Variance: {rf_variance}')\n",
    "print(f'Linear Regression RMSE: {lr_rsme}, MAE: {lr_mae}', f'Variance: {lr_variance}')\n",
    "print(f'XGBoost RMSE: {xg_rsme}, MAE: {xg_mae}', f'Variance: {xg_variance}')\n",
    "\n",
    "\n",
    "# New York\n",
    "rf_rsme, rf_mae, rf_variance = random_forest_regressor(ny_X_train, ny_X_test, ny_y_train, ny_y_test, ny_preproccessor)\n",
    "lr_rsme, lr_mae, lr_variance = linear_regression(ny_X_train, ny_X_test, ny_y_train, ny_y_test, ny_preproccessor)\n",
    "xg_rsme, xg_mae, xg_variance = xg_boost(ny_X_train, ny_X_test, ny_y_train, ny_y_test, ny_preproccessor)\n",
    "\n",
    "print(\"\\nNew York\")\n",
    "print(f'Random Forest Regressor RMSE: {rf_rsme}, MAE: {rf_mae}', f'Variance: {rf_variance}')\n",
    "print(f'Linear Regression RMSE: {lr_rsme}, MAE: {lr_mae}', f'Variance: {lr_variance}')\n",
    "print(f'XGBoost RMSE: {xg_rsme}, MAE: {xg_mae}', f'Variance: {xg_variance}')\n",
    "\n",
    "\n",
    "# Madrid\n",
    "rf_rsme, rf_mae, rf_variance = random_forest_regressor(madrid_X_train, madrid_X_test, madrid_y_train, madrid_y_test, madrid_preproccessor)\n",
    "lr_rsme, lr_mae, lr_variance = linear_regression(madrid_X_train, madrid_X_test, madrid_y_train, madrid_y_test, madrid_preproccessor)\n",
    "xg_rsme, xg_mae, xg_variance = xg_boost(madrid_X_train, madrid_X_test, madrid_y_train, madrid_y_test, madrid_preproccessor)\n",
    "\n",
    "print(\"\\nMadrid\")\n",
    "print(f'Random Forest Regressor RMSE: {rf_rsme}, MAE: {rf_mae}', f'Variance: {rf_variance}')\n",
    "print(f'Linear Regression RMSE: {lr_rsme}, MAE: {lr_mae}', f'Variance: {lr_variance}')\n",
    "print(f'XGBoost RMSE: {xg_rsme}, MAE: {xg_mae}', f'Variance: {xg_variance}')\n",
    "\n"
   ]
  },
  {
   "cell_type": "markdown",
   "metadata": {},
   "source": [
    "### Improved Preprocessing with (HyperParameter tuning , grid search , kfold)"
   ]
  },
  {
   "cell_type": "code",
   "execution_count": null,
   "metadata": {},
   "outputs": [],
   "source": []
  }
 ],
 "metadata": {
  "kernelspec": {
   "display_name": "base",
   "language": "python",
   "name": "python3"
  },
  "language_info": {
   "codemirror_mode": {
    "name": "ipython",
    "version": 3
   },
   "file_extension": ".py",
   "mimetype": "text/x-python",
   "name": "python",
   "nbconvert_exporter": "python",
   "pygments_lexer": "ipython3",
   "version": "3.11.5"
  }
 },
 "nbformat": 4,
 "nbformat_minor": 2
}
