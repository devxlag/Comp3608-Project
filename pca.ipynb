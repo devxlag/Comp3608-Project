{
 "cells": [
  {
   "cell_type": "markdown",
   "metadata": {},
   "source": [
    "### PCA\n",
    "Principal Component Analysis (PCA) is a dimensionality reduction technique that is widely used in machine learning. It is used to transform a dataset into a new coordinate system such that the greatest variance lies along the first coordinate, the second greatest variance along the second coordinate, and so on. The new coordinates are called principal components. PCA is an unsupervised technique, meaning it does not require labels for the data. It is used to reduce the number of features in a dataset while retaining as much information as possible. This is useful for reducing the computational complexity of a model and for visualizing high-dimensional data."
   ]
  },
  {
   "cell_type": "code",
   "execution_count": 27,
   "metadata": {},
   "outputs": [
    {
     "name": "stdout",
     "output_type": "stream",
     "text": [
      "<class 'pandas.core.frame.DataFrame'>\n",
      "RangeIndex: 7907 entries, 0 to 7906\n",
      "Data columns (total 16 columns):\n",
      " #   Column                          Non-Null Count  Dtype  \n",
      "---  ------                          --------------  -----  \n",
      " 0   id                              7907 non-null   int64  \n",
      " 1   name                            7905 non-null   object \n",
      " 2   host_id                         7907 non-null   int64  \n",
      " 3   host_name                       7907 non-null   object \n",
      " 4   neighbourhood_group             7907 non-null   object \n",
      " 5   neighbourhood                   7907 non-null   object \n",
      " 6   latitude                        7907 non-null   float64\n",
      " 7   longitude                       7907 non-null   float64\n",
      " 8   room_type                       7907 non-null   object \n",
      " 9   price                           7907 non-null   int64  \n",
      " 10  minimum_nights                  7907 non-null   int64  \n",
      " 11  number_of_reviews               7907 non-null   int64  \n",
      " 12  last_review                     5149 non-null   object \n",
      " 13  reviews_per_month               5149 non-null   float64\n",
      " 14  calculated_host_listings_count  7907 non-null   int64  \n",
      " 15  availability_365                7907 non-null   int64  \n",
      "dtypes: float64(3), int64(7), object(6)\n",
      "memory usage: 988.5+ KB\n"
     ]
    }
   ],
   "source": [
    "import pandas as pd\n",
    "from sklearn.preprocessing import StandardScaler, OneHotEncoder\n",
    "from sklearn.compose import ColumnTransformer\n",
    "from sklearn.impute import SimpleImputer\n",
    "from sklearn.decomposition import PCA\n",
    "from sklearn.pipeline import Pipeline\n",
    "import warnings\n",
    "warnings.filterwarnings('ignore')\n",
    "\n",
    "# Load the datasets for Singapore, New York City, and Madrid\n",
    "singapore_df = pd.read_csv('datasets/singapore_listings.csv')\n",
    "ny_df = pd.read_csv('datasets/newyorkcity_listings.csv')\n",
    "madrid_df = pd.read_csv('datasets/madrid_listings.csv')\n",
    "\n",
    "# Drop unnecessary columns not diretcly releted to accomodations\n",
    "# data_pca = data.drop(['id', 'name', 'host_id', 'host_name', 'last_review'], axis=1)\n",
    "\n",
    "singapore_df.info()\n"
   ]
  },
  {
   "cell_type": "code",
   "execution_count": 28,
   "metadata": {},
   "outputs": [
    {
     "data": {
      "text/plain": [
       "(Index(['name', 'host_name', 'neighbourhood_group', 'neighbourhood',\n",
       "        'room_type', 'last_review'],\n",
       "       dtype='object'),\n",
       " Index(['id', 'host_id', 'latitude', 'longitude', 'price', 'minimum_nights',\n",
       "        'number_of_reviews', 'reviews_per_month',\n",
       "        'calculated_host_listings_count', 'availability_365'],\n",
       "       dtype='object'))"
      ]
     },
     "execution_count": 28,
     "metadata": {},
     "output_type": "execute_result"
    }
   ],
   "source": [
    "# Define categorical and numerical columns in the dataset\n",
    "# These are the same for both Madrid and New York City datasets so we can use the same code for all datasets\n",
    "categorical_cols = singapore_df.select_dtypes(include=['object']).columns\n",
    "numerical_cols = singapore_df.select_dtypes(include=['float64', 'int64']).columns\n",
    "\n",
    "categorical_cols, numerical_cols"
   ]
  },
  {
   "cell_type": "code",
   "execution_count": 29,
   "metadata": {},
   "outputs": [
    {
     "data": {
      "text/html": [
       "<style>#sk-container-id-3 {color: black;}#sk-container-id-3 pre{padding: 0;}#sk-container-id-3 div.sk-toggleable {background-color: white;}#sk-container-id-3 label.sk-toggleable__label {cursor: pointer;display: block;width: 100%;margin-bottom: 0;padding: 0.3em;box-sizing: border-box;text-align: center;}#sk-container-id-3 label.sk-toggleable__label-arrow:before {content: \"▸\";float: left;margin-right: 0.25em;color: #696969;}#sk-container-id-3 label.sk-toggleable__label-arrow:hover:before {color: black;}#sk-container-id-3 div.sk-estimator:hover label.sk-toggleable__label-arrow:before {color: black;}#sk-container-id-3 div.sk-toggleable__content {max-height: 0;max-width: 0;overflow: hidden;text-align: left;background-color: #f0f8ff;}#sk-container-id-3 div.sk-toggleable__content pre {margin: 0.2em;color: black;border-radius: 0.25em;background-color: #f0f8ff;}#sk-container-id-3 input.sk-toggleable__control:checked~div.sk-toggleable__content {max-height: 200px;max-width: 100%;overflow: auto;}#sk-container-id-3 input.sk-toggleable__control:checked~label.sk-toggleable__label-arrow:before {content: \"▾\";}#sk-container-id-3 div.sk-estimator input.sk-toggleable__control:checked~label.sk-toggleable__label {background-color: #d4ebff;}#sk-container-id-3 div.sk-label input.sk-toggleable__control:checked~label.sk-toggleable__label {background-color: #d4ebff;}#sk-container-id-3 input.sk-hidden--visually {border: 0;clip: rect(1px 1px 1px 1px);clip: rect(1px, 1px, 1px, 1px);height: 1px;margin: -1px;overflow: hidden;padding: 0;position: absolute;width: 1px;}#sk-container-id-3 div.sk-estimator {font-family: monospace;background-color: #f0f8ff;border: 1px dotted black;border-radius: 0.25em;box-sizing: border-box;margin-bottom: 0.5em;}#sk-container-id-3 div.sk-estimator:hover {background-color: #d4ebff;}#sk-container-id-3 div.sk-parallel-item::after {content: \"\";width: 100%;border-bottom: 1px solid gray;flex-grow: 1;}#sk-container-id-3 div.sk-label:hover label.sk-toggleable__label {background-color: #d4ebff;}#sk-container-id-3 div.sk-serial::before {content: \"\";position: absolute;border-left: 1px solid gray;box-sizing: border-box;top: 0;bottom: 0;left: 50%;z-index: 0;}#sk-container-id-3 div.sk-serial {display: flex;flex-direction: column;align-items: center;background-color: white;padding-right: 0.2em;padding-left: 0.2em;position: relative;}#sk-container-id-3 div.sk-item {position: relative;z-index: 1;}#sk-container-id-3 div.sk-parallel {display: flex;align-items: stretch;justify-content: center;background-color: white;position: relative;}#sk-container-id-3 div.sk-item::before, #sk-container-id-3 div.sk-parallel-item::before {content: \"\";position: absolute;border-left: 1px solid gray;box-sizing: border-box;top: 0;bottom: 0;left: 50%;z-index: -1;}#sk-container-id-3 div.sk-parallel-item {display: flex;flex-direction: column;z-index: 1;position: relative;background-color: white;}#sk-container-id-3 div.sk-parallel-item:first-child::after {align-self: flex-end;width: 50%;}#sk-container-id-3 div.sk-parallel-item:last-child::after {align-self: flex-start;width: 50%;}#sk-container-id-3 div.sk-parallel-item:only-child::after {width: 0;}#sk-container-id-3 div.sk-dashed-wrapped {border: 1px dashed gray;margin: 0 0.4em 0.5em 0.4em;box-sizing: border-box;padding-bottom: 0.4em;background-color: white;}#sk-container-id-3 div.sk-label label {font-family: monospace;font-weight: bold;display: inline-block;line-height: 1.2em;}#sk-container-id-3 div.sk-label-container {text-align: center;}#sk-container-id-3 div.sk-container {/* jupyter's `normalize.less` sets `[hidden] { display: none; }` but bootstrap.min.css set `[hidden] { display: none !important; }` so we also need the `!important` here to be able to override the default hidden behavior on the sphinx rendered scikit-learn.org. See: https://github.com/scikit-learn/scikit-learn/issues/21755 */display: inline-block !important;position: relative;}#sk-container-id-3 div.sk-text-repr-fallback {display: none;}</style><div id=\"sk-container-id-3\" class=\"sk-top-container\"><div class=\"sk-text-repr-fallback\"><pre>ColumnTransformer(transformers=[(&#x27;num&#x27;,\n",
       "                                 Pipeline(steps=[(&#x27;imputer&#x27;,\n",
       "                                                  SimpleImputer(strategy=&#x27;median&#x27;)),\n",
       "                                                 (&#x27;scaler&#x27;, StandardScaler())]),\n",
       "                                 [&#x27;latitude&#x27;, &#x27;longitude&#x27;, &#x27;price&#x27;,\n",
       "                                  &#x27;minimum_nights&#x27;, &#x27;number_of_reviews&#x27;,\n",
       "                                  &#x27;reviews_per_month&#x27;,\n",
       "                                  &#x27;calculated_host_listings_count&#x27;,\n",
       "                                  &#x27;availability_365&#x27;]),\n",
       "                                (&#x27;cat&#x27;,\n",
       "                                 Pipeline(steps=[(&#x27;imputer&#x27;,\n",
       "                                                  SimpleImputer(fill_value=&#x27;missing&#x27;,\n",
       "                                                                strategy=&#x27;constant&#x27;)),\n",
       "                                                 (&#x27;onehot&#x27;,\n",
       "                                                  OneHotEncoder(handle_unknown=&#x27;ignore&#x27;,\n",
       "                                                                sparse=False))]),\n",
       "                                 [&#x27;neighbourhood_group&#x27;, &#x27;neighbourhood&#x27;,\n",
       "                                  &#x27;room_type&#x27;])])</pre><b>In a Jupyter environment, please rerun this cell to show the HTML representation or trust the notebook. <br />On GitHub, the HTML representation is unable to render, please try loading this page with nbviewer.org.</b></div><div class=\"sk-container\" hidden><div class=\"sk-item sk-dashed-wrapped\"><div class=\"sk-label-container\"><div class=\"sk-label sk-toggleable\"><input class=\"sk-toggleable__control sk-hidden--visually\" id=\"sk-estimator-id-15\" type=\"checkbox\" ><label for=\"sk-estimator-id-15\" class=\"sk-toggleable__label sk-toggleable__label-arrow\">ColumnTransformer</label><div class=\"sk-toggleable__content\"><pre>ColumnTransformer(transformers=[(&#x27;num&#x27;,\n",
       "                                 Pipeline(steps=[(&#x27;imputer&#x27;,\n",
       "                                                  SimpleImputer(strategy=&#x27;median&#x27;)),\n",
       "                                                 (&#x27;scaler&#x27;, StandardScaler())]),\n",
       "                                 [&#x27;latitude&#x27;, &#x27;longitude&#x27;, &#x27;price&#x27;,\n",
       "                                  &#x27;minimum_nights&#x27;, &#x27;number_of_reviews&#x27;,\n",
       "                                  &#x27;reviews_per_month&#x27;,\n",
       "                                  &#x27;calculated_host_listings_count&#x27;,\n",
       "                                  &#x27;availability_365&#x27;]),\n",
       "                                (&#x27;cat&#x27;,\n",
       "                                 Pipeline(steps=[(&#x27;imputer&#x27;,\n",
       "                                                  SimpleImputer(fill_value=&#x27;missing&#x27;,\n",
       "                                                                strategy=&#x27;constant&#x27;)),\n",
       "                                                 (&#x27;onehot&#x27;,\n",
       "                                                  OneHotEncoder(handle_unknown=&#x27;ignore&#x27;,\n",
       "                                                                sparse=False))]),\n",
       "                                 [&#x27;neighbourhood_group&#x27;, &#x27;neighbourhood&#x27;,\n",
       "                                  &#x27;room_type&#x27;])])</pre></div></div></div><div class=\"sk-parallel\"><div class=\"sk-parallel-item\"><div class=\"sk-item\"><div class=\"sk-label-container\"><div class=\"sk-label sk-toggleable\"><input class=\"sk-toggleable__control sk-hidden--visually\" id=\"sk-estimator-id-16\" type=\"checkbox\" ><label for=\"sk-estimator-id-16\" class=\"sk-toggleable__label sk-toggleable__label-arrow\">num</label><div class=\"sk-toggleable__content\"><pre>[&#x27;latitude&#x27;, &#x27;longitude&#x27;, &#x27;price&#x27;, &#x27;minimum_nights&#x27;, &#x27;number_of_reviews&#x27;, &#x27;reviews_per_month&#x27;, &#x27;calculated_host_listings_count&#x27;, &#x27;availability_365&#x27;]</pre></div></div></div><div class=\"sk-serial\"><div class=\"sk-item\"><div class=\"sk-serial\"><div class=\"sk-item\"><div class=\"sk-estimator sk-toggleable\"><input class=\"sk-toggleable__control sk-hidden--visually\" id=\"sk-estimator-id-17\" type=\"checkbox\" ><label for=\"sk-estimator-id-17\" class=\"sk-toggleable__label sk-toggleable__label-arrow\">SimpleImputer</label><div class=\"sk-toggleable__content\"><pre>SimpleImputer(strategy=&#x27;median&#x27;)</pre></div></div></div><div class=\"sk-item\"><div class=\"sk-estimator sk-toggleable\"><input class=\"sk-toggleable__control sk-hidden--visually\" id=\"sk-estimator-id-18\" type=\"checkbox\" ><label for=\"sk-estimator-id-18\" class=\"sk-toggleable__label sk-toggleable__label-arrow\">StandardScaler</label><div class=\"sk-toggleable__content\"><pre>StandardScaler()</pre></div></div></div></div></div></div></div></div><div class=\"sk-parallel-item\"><div class=\"sk-item\"><div class=\"sk-label-container\"><div class=\"sk-label sk-toggleable\"><input class=\"sk-toggleable__control sk-hidden--visually\" id=\"sk-estimator-id-19\" type=\"checkbox\" ><label for=\"sk-estimator-id-19\" class=\"sk-toggleable__label sk-toggleable__label-arrow\">cat</label><div class=\"sk-toggleable__content\"><pre>[&#x27;neighbourhood_group&#x27;, &#x27;neighbourhood&#x27;, &#x27;room_type&#x27;]</pre></div></div></div><div class=\"sk-serial\"><div class=\"sk-item\"><div class=\"sk-serial\"><div class=\"sk-item\"><div class=\"sk-estimator sk-toggleable\"><input class=\"sk-toggleable__control sk-hidden--visually\" id=\"sk-estimator-id-20\" type=\"checkbox\" ><label for=\"sk-estimator-id-20\" class=\"sk-toggleable__label sk-toggleable__label-arrow\">SimpleImputer</label><div class=\"sk-toggleable__content\"><pre>SimpleImputer(fill_value=&#x27;missing&#x27;, strategy=&#x27;constant&#x27;)</pre></div></div></div><div class=\"sk-item\"><div class=\"sk-estimator sk-toggleable\"><input class=\"sk-toggleable__control sk-hidden--visually\" id=\"sk-estimator-id-21\" type=\"checkbox\" ><label for=\"sk-estimator-id-21\" class=\"sk-toggleable__label sk-toggleable__label-arrow\">OneHotEncoder</label><div class=\"sk-toggleable__content\"><pre>OneHotEncoder(handle_unknown=&#x27;ignore&#x27;, sparse=False)</pre></div></div></div></div></div></div></div></div></div></div></div></div>"
      ],
      "text/plain": [
       "ColumnTransformer(transformers=[('num',\n",
       "                                 Pipeline(steps=[('imputer',\n",
       "                                                  SimpleImputer(strategy='median')),\n",
       "                                                 ('scaler', StandardScaler())]),\n",
       "                                 ['latitude', 'longitude', 'price',\n",
       "                                  'minimum_nights', 'number_of_reviews',\n",
       "                                  'reviews_per_month',\n",
       "                                  'calculated_host_listings_count',\n",
       "                                  'availability_365']),\n",
       "                                ('cat',\n",
       "                                 Pipeline(steps=[('imputer',\n",
       "                                                  SimpleImputer(fill_value='missing',\n",
       "                                                                strategy='constant')),\n",
       "                                                 ('onehot',\n",
       "                                                  OneHotEncoder(handle_unknown='ignore',\n",
       "                                                                sparse=False))]),\n",
       "                                 ['neighbourhood_group', 'neighbourhood',\n",
       "                                  'room_type'])])"
      ]
     },
     "execution_count": 29,
     "metadata": {},
     "output_type": "execute_result"
    }
   ],
   "source": [
    "# Define the numerical and categorical features for scaling and one-hot encoding\n",
    "numerical_features = ['latitude', 'longitude', 'price', 'minimum_nights', 'number_of_reviews',\n",
    "                      'reviews_per_month', 'calculated_host_listings_count', 'availability_365']\n",
    "\n",
    "# These only chosen due to a MemoryError when trying to use all categorical features i.e. (name, host_name, last_review)\n",
    "categorical_features = ['neighbourhood_group', 'neighbourhood', 'room_type']\n",
    "\n",
    "# Define preprocessing steps for both numerical and categorical data\n",
    "numeric_transformer = Pipeline(steps=[\n",
    "    ('imputer', SimpleImputer(strategy='median')),\n",
    "    ('scaler', StandardScaler())])\n",
    "\n",
    "categorical_transformer = Pipeline(steps=[\n",
    "    ('imputer', SimpleImputer(strategy='constant', fill_value='missing')),\n",
    "    ('onehot', OneHotEncoder(handle_unknown='ignore', sparse=False))])\n",
    "\n",
    "preprocessor = ColumnTransformer(\n",
    "    transformers=[\n",
    "        ('num', numeric_transformer, numerical_features),\n",
    "        ('cat', categorical_transformer, categorical_features)])\n",
    "\n",
    "preprocessor"
   ]
  },
  {
   "cell_type": "code",
   "execution_count": 30,
   "metadata": {},
   "outputs": [
    {
     "name": "stdout",
     "output_type": "stream",
     "text": [
      "Singapore: Top 5 features per PCA component:\n",
      "['availability_365', 'number_of_reviews', 'calculated_host_listings_count', 'minimum_nights', 'latitude', 'reviews_per_month', 'longitude', 'neighbourhood_group_Central Region', 'price']\n",
      "\n",
      "New York City: Top 5 features per PCA component:\n",
      "['availability_365', 'longitude', 'minimum_nights', 'latitude', 'reviews_per_month', 'number_of_reviews', 'calculated_host_listings_count', 'price', 'neighbourhood_group_Brooklyn', 'neighbourhood_group_Manhattan']\n",
      "\n",
      "Madrid: Top 5 features per PCA component:\n",
      "['latitude', 'reviews_per_month', 'neighbourhood_group_Centro', 'longitude', 'calculated_host_listings_count', 'number_of_reviews', 'availability_365', 'minimum_nights', 'room_type_Private room']\n"
     ]
    }
   ],
   "source": [
    "# Function to get top features from PCA components\n",
    "def get_top_features(dataset):\n",
    "    # Append PCA to the preprocessing pipeline, explaining 95% of the variance\n",
    "    pca_pipeline = Pipeline(steps=[('preprocessor', preprocessor), ('pca', PCA(n_components=0.95))])\n",
    "    pca_pipeline.fit(dataset)\n",
    "\n",
    "    # Extract PCA components and transformed feature names\n",
    "    pca = pca_pipeline.named_steps['pca']\n",
    "    components = pca.components_\n",
    "    transformed_feature_names = preprocessor.transformers_[0][1].named_steps['scaler'].get_feature_names_out(numerical_features).tolist() + \\\n",
    "                                preprocessor.transformers_[1][1].named_steps['onehot'].get_feature_names_out(categorical_features).tolist()\n",
    "\n",
    "    # Create a DataFrame of PCA components with feature names\n",
    "    pca_components_df = pd.DataFrame(components, columns=transformed_feature_names)\n",
    "\n",
    "    # Get the top 5 features for the first three components\n",
    "    top_features_per_component = {}\n",
    "    for i in range(3):\n",
    "        top_features = pca_components_df.iloc[i].abs().nlargest(5).index.tolist()\n",
    "        top_features_per_component[f'Component {i+1}'] = top_features\n",
    "\n",
    "    return top_features_per_component\n",
    "\n",
    "# Get the top features from PCA top 3 components for each dataset\n",
    "singapore_top_features = get_top_features(singapore_df)\n",
    "ny_top_features = get_top_features(ny_df)\n",
    "madrid_top_features = get_top_features(madrid_df)\n",
    "\n",
    "\n",
    "def get_most_frequent_features(top_features):\n",
    "    all_top_features = []\n",
    "    for features in [top_features]:\n",
    "        for component in features.values():\n",
    "            all_top_features.extend(component)\n",
    "\n",
    "    # Get the most frequent features among all datasets\n",
    "    most_frequent_features = pd.Series(all_top_features).value_counts().index.tolist()\n",
    "\n",
    "    return most_frequent_features\n",
    "\n",
    "# Display the top features for each dataset\n",
    "singapore_most_frequent = get_most_frequent_features(singapore_top_features)\n",
    "print(\"Singapore: Top 5 features per PCA component:\")\n",
    "print(singapore_most_frequent)\n",
    "\n",
    "ny_most_frequent = get_most_frequent_features(ny_top_features)\n",
    "print(\"\\nNew York City: Top 5 features per PCA component:\")\n",
    "print(ny_most_frequent)\n",
    "\n",
    "madrid_most_frequent = get_most_frequent_features(madrid_top_features)\n",
    "print(\"\\nMadrid: Top 5 features per PCA component:\")\n",
    "print(madrid_most_frequent)"
   ]
  },
  {
   "cell_type": "code",
   "execution_count": 32,
   "metadata": {},
   "outputs": [
    {
     "name": "stdout",
     "output_type": "stream",
     "text": [
      "\n",
      "Most frequent features among all datasets:\n"
     ]
    },
    {
     "data": {
      "text/plain": [
       "['availability_365',\n",
       " 'number_of_reviews',\n",
       " 'calculated_host_listings_count',\n",
       " 'minimum_nights',\n",
       " 'latitude',\n",
       " 'reviews_per_month',\n",
       " 'longitude',\n",
       " 'price',\n",
       " 'neighbourhood_group_Central Region',\n",
       " 'neighbourhood_group_Brooklyn',\n",
       " 'neighbourhood_group_Manhattan',\n",
       " 'neighbourhood_group_Centro',\n",
       " 'room_type_Private room']"
      ]
     },
     "execution_count": 32,
     "metadata": {},
     "output_type": "execute_result"
    }
   ],
   "source": [
    "# # Combine all top features into a single list\n",
    "all_top_features = []\n",
    "for features in [singapore_most_frequent, ny_most_frequent, madrid_most_frequent]:\n",
    "    all_top_features.extend(features)\n",
    "\n",
    "# # Get the most frequent features among all datasets\n",
    "most_frequent_features = pd.Series(all_top_features).value_counts().index.tolist()\n",
    "\n",
    "# Display the most robust features useful for predicting Airbnb prices across all datasets\n",
    "print(\"\\nMost frequent features among all datasets:\")\n",
    "most_frequent_features"
   ]
  }
 ],
 "metadata": {
  "kernelspec": {
   "display_name": "base",
   "language": "python",
   "name": "python3"
  },
  "language_info": {
   "codemirror_mode": {
    "name": "ipython",
    "version": 3
   },
   "file_extension": ".py",
   "mimetype": "text/x-python",
   "name": "python",
   "nbconvert_exporter": "python",
   "pygments_lexer": "ipython3",
   "version": "3.11.5"
  }
 },
 "nbformat": 4,
 "nbformat_minor": 2
}
