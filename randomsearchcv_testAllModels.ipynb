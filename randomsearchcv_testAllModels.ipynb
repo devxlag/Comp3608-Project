{
 "cells": [
  {
   "cell_type": "code",
   "execution_count": 10,
   "metadata": {},
   "outputs": [],
   "source": [
    "import pandas as pd\n",
    "import preprocessor_improved as prep_improved\n",
    "import preprocessor_baseline as prep_baseline\n",
    "from random_forest_regressor import random_forest_regressor\n",
    "from linear_regression import linear_regression\n",
    "from gbm import xg_boost\n",
    "from sklearn.model_selection import train_test_split\n",
    "import warnings\n",
    "import numpy as np\n",
    "from sklearn.ensemble import RandomForestRegressor\n",
    "from sklearn.model_selection import RandomizedSearchCV\n",
    "from sklearn import metrics\n",
    "warnings.filterwarnings('ignore')\n",
    "\n",
    "\n",
    "\n",
    "# Load the datasets\n",
    "singapore_df = pd.read_csv('datasets/singapore_listings.csv')\n",
    "ny_df = pd.read_csv('datasets/newyorkcity_listings.csv')\n",
    "madrid_df = pd.read_csv('datasets/madrid_listings.csv')"
   ]
  },
  {
   "cell_type": "code",
   "execution_count": 1,
   "metadata": {},
   "outputs": [
    {
     "name": "stderr",
     "output_type": "stream",
     "text": [
      "C:\\Users\\Devon Murray\\AppData\\Roaming\\Python\\Python311\\site-packages\\pandas\\core\\arrays\\masked.py:60: UserWarning: Pandas requires version '1.3.6' or newer of 'bottleneck' (version '1.3.5' currently installed).\n",
      "  from pandas.core import (\n"
     ]
    }
   ],
   "source": [
    "import pandas as pd\n",
    "import preprocessor_improved as prep_improved\n",
    "import preprocessor_baseline as prep_baseline\n",
    "from sklearn.ensemble import RandomForestRegressor\n",
    "from sklearn.linear_model import LinearRegression\n",
    "from xgboost import XGBRegressor\n",
    "from sklearn.model_selection import train_test_split, RandomizedSearchCV\n",
    "import warnings\n",
    "import numpy as np\n",
    "\n",
    "# Define a function to preprocess the data\n",
    "def preprocess_data(df):\n",
    "    preprocessor, X, y = prep_baseline.preprocess_data(df)\n",
    "    X_transformed = preprocessor.fit_transform(X)\n",
    "    return preprocessor, X_transformed, y\n",
    "\n",
    "# Use a subset of the data to speed up testing\n",
    "subset_fraction = 0.1 # Example fraction, adjust as needed\n",
    "\n",
    "# Get subsets for each dataset\n",
    "singapore_df_subset = singapore_df.sample(frac=subset_fraction, random_state=42)\n",
    "ny_df_subset = ny_df.sample(frac=subset_fraction, random_state=42)\n",
    "madrid_df_subset = madrid_df.sample(frac=subset_fraction, random_state=42)\n",
    "\n",
    "# Preprocess the data for each subset\n",
    "singapore_preprocessor, singapore_X_transformed, singapore_y = preprocess_data(singapore_df)\n",
    "ny_preprocessor, ny_X_transformed, ny_y = preprocess_data(ny_df)\n",
    "madrid_preprocessor, madrid_X_transformed, madrid_y = preprocess_data(madrid_df)\n",
    "\n",
    "# Split the data into training and testing sets\n",
    "singapore_X_train, singapore_X_test, singapore_y_train, singapore_y_test = train_test_split(\n",
    "    singapore_X_transformed, singapore_y, test_size=0.3, random_state=42\n",
    ")\n",
    "ny_X_train, ny_X_test, ny_y_train, ny_y_test = train_test_split(\n",
    "    ny_X_transformed, ny_y, test_size=0.3, random_state=42\n",
    ")\n",
    "madrid_X_train, madrid_X_test, madrid_y_train, madrid_y_test = train_test_split(\n",
    "    madrid_X_transformed, madrid_y, test_size=0.3, random_state=42\n",
    ")\n",
    "\n",
    "# Define models\n",
    "rf_model = RandomForestRegressor()\n",
    "lin_model = LinearRegression()\n",
    "xgb_model = XGBRegressor()\n",
    "\n",
    "# Define hyperparameters for each model\n",
    "rf_params = {\n",
    "    'n_estimators': [int(x) for x in np.linspace(100, 1000, num=20)],\n",
    "    'max_features': ['log2', 'sqrt'],\n",
    "    'max_depth': [int(x) for x in np.linspace(10, 150, num=11)],\n",
    "    'min_samples_split': [2, 5, 10, 20],\n",
    "    'min_samples_leaf': [1, 2, 4, 10],\n",
    "    'bootstrap': [True, False],\n",
    "}\n",
    "\n",
    "lin_params = {\n",
    "    'fit_intercept': [True, False],\n",
    "}\n",
    "\n",
    "xgb_params = {\n",
    "    # 'n_estimators': [100, 200],\n",
    "    # 'learning_rate': [0.01, 0.1, 0.2, 0.3],\n",
    "    # 'max_depth': [3, 4, 5],\n",
    "    # 'min_child_weight': [1, 2, 3],\n",
    "    # 'gamma': [0, 0.1, 0.2],\n",
    "    # 'subsample': [0.8, 0.9, 1.0],\n",
    "    # 'colsample_bytree': [0.8, 0.9, 1.0],\n",
    "\n",
    "    'learning_rate': [0.05, 0.1, 0.15, 0.2],\n",
    "    'n_estimators': [100, 200, 300, 400, 500],\n",
    "    'max_depth': [3, 4, 5, 6],\n",
    "    'subsample': [0.7, 0.8, 0.9, 1.0],\n",
    "    'colsample_bytree': [0.5, 0.6, 0.7, 0.8],\n",
    "    'reg_alpha': [0, 0.1, 0.2, 0.3, 0.5],\n",
    "    'reg_lambda': [0, 0.1, 0.2, 0.3, 0.5],\n",
    "    'gamma': [0, 1, 2],\n",
    "}\n",
    "\n",
    "# Perform hyperparameter search with the subsets\n",
    "def run_hyperparameter_search(model, params, X_train, y_train):\n",
    "    rnd_search_cv = RandomizedSearchCV(\n",
    "        model, params, cv=3, n_iter=10, random_state=42, n_jobs=1, scoring='neg_mean_squared_error'\n",
    "    )\n",
    "    rnd_search_cv.fit(X_train, y_train)\n",
    "    return rnd_search_cv\n"
   ]
  },
  {
   "cell_type": "code",
   "execution_count": 12,
   "metadata": {},
   "outputs": [],
   "source": [
    "\n",
    "singapore_rf_search = run_hyperparameter_search(rf_model, rf_params, singapore_X_train, singapore_y_train)\n",
    "ny_rf_search = run_hyperparameter_search(rf_model, rf_params, ny_X_train, ny_y_train)\n",
    "madrid_rf_search = run_hyperparameter_search(rf_model, rf_params, madrid_X_train, madrid_y_train)"
   ]
  },
  {
   "cell_type": "code",
   "execution_count": 15,
   "metadata": {},
   "outputs": [],
   "source": [
    "\n",
    "singapore_lin_search = run_hyperparameter_search(lin_model, lin_params, singapore_X_train, singapore_y_train)\n",
    "ny_lin_search = run_hyperparameter_search(lin_model, lin_params, ny_X_train, ny_y_train)\n",
    "madrid_lin_search = run_hyperparameter_search(lin_model, lin_params, madrid_X_train, madrid_y_train)"
   ]
  },
  {
   "cell_type": "code",
   "execution_count": 25,
   "metadata": {},
   "outputs": [],
   "source": [
    "singapore_xgb_search = run_hyperparameter_search(xgb_model, xgb_params, singapore_X_train, singapore_y_train)\n",
    "ny_xgb_search = run_hyperparameter_search(xgb_model, xgb_params, ny_X_train, ny_y_train)\n",
    "madrid_xgb_search = run_hyperparameter_search(xgb_model, xgb_params, madrid_X_train, madrid_y_train)\n"
   ]
  },
  {
   "cell_type": "code",
   "execution_count": 17,
   "metadata": {},
   "outputs": [],
   "source": [
    "import pandas as pd\n",
    "from sklearn.ensemble import RandomForestRegressor\n",
    "from sklearn.linear_model import LinearRegression\n",
    "from xgboost import XGBRegressor\n",
    "from sklearn.model_selection import RandomizedSearchCV, train_test_split\n",
    "from sklearn.metrics import mean_squared_error, mean_absolute_error, r2_score\n",
    "import numpy as np\n",
    "import warnings\n",
    "warnings.filterwarnings('ignore')\n",
    "\n",
    "# Function to calculate evaluation metrics, including RMSE\n",
    "def calculate_metrics(model, X_test, y_test):\n",
    "    y_pred = model.predict(X_test)\n",
    "    mse = mean_squared_error(y_test, y_pred)\n",
    "    rmse = np.sqrt(mse)  # Calculate RMSE\n",
    "    mae = mean_absolute_error(y_test, y_pred)\n",
    "    r2 = r2_score(y_test, y_pred)\n",
    "    return mse, rmse, mae, r2\n"
   ]
  },
  {
   "cell_type": "code",
   "execution_count": 18,
   "metadata": {},
   "outputs": [
    {
     "name": "stdout",
     "output_type": "stream",
     "text": [
      "Singapore Random Forest Metrics (MSE, RMSE, MAE, R^2): (57011.1682682344, 238.7701159446768, 73.18845001226889, 0.11188169106753854)\n",
      "New York Random Forest Metrics (MSE, RMSE, MAE, R^2): (31088.147106733395, 176.31831188714744, 61.02936709367881, 0.23024957924696887)\n",
      "Madrid Random Forest Metrics (MSE, RMSE, MAE, R^2): (250884.37523552735, 500.8835944962935, 109.0362626233096, 0.06255570262047006)\n"
     ]
    }
   ],
   "source": [
    "\n",
    "# Calculate metrics for Random Forest\n",
    "singapore_rf_best_model = singapore_rf_search.best_estimator_\n",
    "ny_rf_best_model = ny_rf_search.best_estimator_\n",
    "madrid_rf_best_model = madrid_rf_search.best_estimator_\n",
    "\n",
    "singapore_rf_metrics = calculate_metrics(singapore_rf_best_model, singapore_X_test, singapore_y_test)\n",
    "ny_rf_metrics = calculate_metrics(ny_rf_best_model, ny_X_test, ny_y_test)\n",
    "madrid_rf_metrics = calculate_metrics(madrid_rf_best_model, madrid_X_test, madrid_y_test)\n",
    "\n",
    "\n",
    "print(\"Singapore Random Forest Metrics (MSE, RMSE, MAE, R^2):\", singapore_rf_metrics)\n",
    "print(\"New York Random Forest Metrics (MSE, RMSE, MAE, R^2):\", ny_rf_metrics)\n",
    "print(\"Madrid Random Forest Metrics (MSE, RMSE, MAE, R^2):\", madrid_rf_metrics)"
   ]
  },
  {
   "cell_type": "code",
   "execution_count": 19,
   "metadata": {},
   "outputs": [
    {
     "name": "stdout",
     "output_type": "stream",
     "text": [
      "Singapore Linear Regression Metrics (MSE, RMSE, MAE, R^2): (61786.764526406245, 248.56943602624648, 84.68060486827693, 0.037487592476246556)\n",
      "New York Linear Regression Metrics (MSE, RMSE, MAE, R^2): (34298.93057301481, 185.1997045705387, 69.23455437503382, 0.15074976487618263)\n",
      "Madrid Linear Regression Metrics (MSE, RMSE, MAE, R^2): (264559.7972898442, 514.3537666721652, 124.29027250913583, 0.01145667978557896)\n"
     ]
    }
   ],
   "source": [
    "# Calculate metrics for Linear Regression\n",
    "singapore_lin_best_model = singapore_lin_search.best_estimator_\n",
    "ny_lin_best_model = ny_lin_search.best_estimator_\n",
    "madrid_lin_best_model = madrid_lin_search.best_estimator_\n",
    "\n",
    "singapore_lin_metrics = calculate_metrics(singapore_lin_best_model, singapore_X_test, singapore_y_test)\n",
    "ny_lin_metrics = calculate_metrics(ny_lin_best_model, ny_X_test, ny_y_test)\n",
    "madrid_lin_metrics = calculate_metrics(madrid_lin_best_model, madrid_X_test, madrid_y_test)\n",
    "\n",
    "\n",
    "print(\"Singapore Linear Regression Metrics (MSE, RMSE, MAE, R^2):\", singapore_lin_metrics)\n",
    "print(\"New York Linear Regression Metrics (MSE, RMSE, MAE, R^2):\", ny_lin_metrics)\n",
    "print(\"Madrid Linear Regression Metrics (MSE, RMSE, MAE, R^2):\", madrid_lin_metrics)"
   ]
  },
  {
   "cell_type": "code",
   "execution_count": 26,
   "metadata": {},
   "outputs": [
    {
     "name": "stdout",
     "output_type": "stream",
     "text": [
      "Singapore XGBoost Metrics (MSE, RMSE, MAE, R^2): (86558.06894897319, 294.2075270093768, 81.59877991204115, -0.34839906205279725)\n",
      "New York XGBoost Metrics (MSE, RMSE, MAE, R^2): (33823.84921415189, 183.91261298277476, 63.44118624787055, 0.16251290002287178)\n",
      "Madrid XGBoost Metrics (MSE, RMSE, MAE, R^2): (248128.63263587176, 498.12511745130035, 117.16333132624061, 0.07285269773093772)\n"
     ]
    }
   ],
   "source": [
    "# Calculate metrics for XGBoost Regressor\n",
    "singapore_xgb_best_model = singapore_xgb_search.best_estimator_\n",
    "ny_xgb_best_model = ny_xgb_search.best_estimator_\n",
    "madrid_xgb_best_model = madrid_xgb_search.best_estimator_\n",
    "\n",
    "singapore_xgb_metrics = calculate_metrics(singapore_xgb_best_model, singapore_X_test, singapore_y_test)\n",
    "ny_xgb_metrics = calculate_metrics(ny_xgb_best_model, ny_X_test, ny_y_test)\n",
    "madrid_xgb_metrics = calculate_metrics(madrid_xgb_best_model, madrid_X_test, madrid_y_test)\n",
    "\n",
    "print(\"Singapore XGBoost Metrics (MSE, RMSE, MAE, R^2):\", singapore_xgb_metrics)\n",
    "print(\"New York XGBoost Metrics (MSE, RMSE, MAE, R^2):\", ny_xgb_metrics)\n",
    "print(\"Madrid XGBoost Metrics (MSE, RMSE, MAE, R^2):\", madrid_xgb_metrics)"
   ]
  },
  {
   "cell_type": "code",
   "execution_count": 2,
   "metadata": {},
   "outputs": [
    {
     "data": {
      "text/html": [
       "<style>#sk-container-id-1 {color: black;}#sk-container-id-1 pre{padding: 0;}#sk-container-id-1 div.sk-toggleable {background-color: white;}#sk-container-id-1 label.sk-toggleable__label {cursor: pointer;display: block;width: 100%;margin-bottom: 0;padding: 0.3em;box-sizing: border-box;text-align: center;}#sk-container-id-1 label.sk-toggleable__label-arrow:before {content: \"▸\";float: left;margin-right: 0.25em;color: #696969;}#sk-container-id-1 label.sk-toggleable__label-arrow:hover:before {color: black;}#sk-container-id-1 div.sk-estimator:hover label.sk-toggleable__label-arrow:before {color: black;}#sk-container-id-1 div.sk-toggleable__content {max-height: 0;max-width: 0;overflow: hidden;text-align: left;background-color: #f0f8ff;}#sk-container-id-1 div.sk-toggleable__content pre {margin: 0.2em;color: black;border-radius: 0.25em;background-color: #f0f8ff;}#sk-container-id-1 input.sk-toggleable__control:checked~div.sk-toggleable__content {max-height: 200px;max-width: 100%;overflow: auto;}#sk-container-id-1 input.sk-toggleable__control:checked~label.sk-toggleable__label-arrow:before {content: \"▾\";}#sk-container-id-1 div.sk-estimator input.sk-toggleable__control:checked~label.sk-toggleable__label {background-color: #d4ebff;}#sk-container-id-1 div.sk-label input.sk-toggleable__control:checked~label.sk-toggleable__label {background-color: #d4ebff;}#sk-container-id-1 input.sk-hidden--visually {border: 0;clip: rect(1px 1px 1px 1px);clip: rect(1px, 1px, 1px, 1px);height: 1px;margin: -1px;overflow: hidden;padding: 0;position: absolute;width: 1px;}#sk-container-id-1 div.sk-estimator {font-family: monospace;background-color: #f0f8ff;border: 1px dotted black;border-radius: 0.25em;box-sizing: border-box;margin-bottom: 0.5em;}#sk-container-id-1 div.sk-estimator:hover {background-color: #d4ebff;}#sk-container-id-1 div.sk-parallel-item::after {content: \"\";width: 100%;border-bottom: 1px solid gray;flex-grow: 1;}#sk-container-id-1 div.sk-label:hover label.sk-toggleable__label {background-color: #d4ebff;}#sk-container-id-1 div.sk-serial::before {content: \"\";position: absolute;border-left: 1px solid gray;box-sizing: border-box;top: 0;bottom: 0;left: 50%;z-index: 0;}#sk-container-id-1 div.sk-serial {display: flex;flex-direction: column;align-items: center;background-color: white;padding-right: 0.2em;padding-left: 0.2em;position: relative;}#sk-container-id-1 div.sk-item {position: relative;z-index: 1;}#sk-container-id-1 div.sk-parallel {display: flex;align-items: stretch;justify-content: center;background-color: white;position: relative;}#sk-container-id-1 div.sk-item::before, #sk-container-id-1 div.sk-parallel-item::before {content: \"\";position: absolute;border-left: 1px solid gray;box-sizing: border-box;top: 0;bottom: 0;left: 50%;z-index: -1;}#sk-container-id-1 div.sk-parallel-item {display: flex;flex-direction: column;z-index: 1;position: relative;background-color: white;}#sk-container-id-1 div.sk-parallel-item:first-child::after {align-self: flex-end;width: 50%;}#sk-container-id-1 div.sk-parallel-item:last-child::after {align-self: flex-start;width: 50%;}#sk-container-id-1 div.sk-parallel-item:only-child::after {width: 0;}#sk-container-id-1 div.sk-dashed-wrapped {border: 1px dashed gray;margin: 0 0.4em 0.5em 0.4em;box-sizing: border-box;padding-bottom: 0.4em;background-color: white;}#sk-container-id-1 div.sk-label label {font-family: monospace;font-weight: bold;display: inline-block;line-height: 1.2em;}#sk-container-id-1 div.sk-label-container {text-align: center;}#sk-container-id-1 div.sk-container {/* jupyter's `normalize.less` sets `[hidden] { display: none; }` but bootstrap.min.css set `[hidden] { display: none !important; }` so we also need the `!important` here to be able to override the default hidden behavior on the sphinx rendered scikit-learn.org. See: https://github.com/scikit-learn/scikit-learn/issues/21755 */display: inline-block !important;position: relative;}#sk-container-id-1 div.sk-text-repr-fallback {display: none;}</style><div id=\"sk-container-id-1\" class=\"sk-top-container\"><div class=\"sk-text-repr-fallback\"><pre>RandomizedSearchCV(cv=5, estimator=RandomForestRegressor(),\n",
       "                   param_distributions={&#x27;bootstrap&#x27;: [True, False],\n",
       "                                        &#x27;max_depth&#x27;: [10, 24, 38, 52, 66, 80,\n",
       "                                                      94, 108, 122, 136, 150],\n",
       "                                        &#x27;max_features&#x27;: [&#x27;log2&#x27;, &#x27;sqrt&#x27;],\n",
       "                                        &#x27;min_samples_leaf&#x27;: [1, 2, 4, 10, 20],\n",
       "                                        &#x27;min_samples_split&#x27;: [2, 5, 10, 20],\n",
       "                                        &#x27;n_estimators&#x27;: [100, 147, 194, 242,\n",
       "                                                         289, 336, 384, 431,\n",
       "                                                         478, 526, 573, 621,\n",
       "                                                         668, 715, 763, 810,\n",
       "                                                         857, 905, 952, 1000]})</pre><b>In a Jupyter environment, please rerun this cell to show the HTML representation or trust the notebook. <br />On GitHub, the HTML representation is unable to render, please try loading this page with nbviewer.org.</b></div><div class=\"sk-container\" hidden><div class=\"sk-item sk-dashed-wrapped\"><div class=\"sk-label-container\"><div class=\"sk-label sk-toggleable\"><input class=\"sk-toggleable__control sk-hidden--visually\" id=\"sk-estimator-id-1\" type=\"checkbox\" ><label for=\"sk-estimator-id-1\" class=\"sk-toggleable__label sk-toggleable__label-arrow\">RandomizedSearchCV</label><div class=\"sk-toggleable__content\"><pre>RandomizedSearchCV(cv=5, estimator=RandomForestRegressor(),\n",
       "                   param_distributions={&#x27;bootstrap&#x27;: [True, False],\n",
       "                                        &#x27;max_depth&#x27;: [10, 24, 38, 52, 66, 80,\n",
       "                                                      94, 108, 122, 136, 150],\n",
       "                                        &#x27;max_features&#x27;: [&#x27;log2&#x27;, &#x27;sqrt&#x27;],\n",
       "                                        &#x27;min_samples_leaf&#x27;: [1, 2, 4, 10, 20],\n",
       "                                        &#x27;min_samples_split&#x27;: [2, 5, 10, 20],\n",
       "                                        &#x27;n_estimators&#x27;: [100, 147, 194, 242,\n",
       "                                                         289, 336, 384, 431,\n",
       "                                                         478, 526, 573, 621,\n",
       "                                                         668, 715, 763, 810,\n",
       "                                                         857, 905, 952, 1000]})</pre></div></div></div><div class=\"sk-parallel\"><div class=\"sk-parallel-item\"><div class=\"sk-item\"><div class=\"sk-label-container\"><div class=\"sk-label sk-toggleable\"><input class=\"sk-toggleable__control sk-hidden--visually\" id=\"sk-estimator-id-2\" type=\"checkbox\" ><label for=\"sk-estimator-id-2\" class=\"sk-toggleable__label sk-toggleable__label-arrow\">estimator: RandomForestRegressor</label><div class=\"sk-toggleable__content\"><pre>RandomForestRegressor()</pre></div></div></div><div class=\"sk-serial\"><div class=\"sk-item\"><div class=\"sk-estimator sk-toggleable\"><input class=\"sk-toggleable__control sk-hidden--visually\" id=\"sk-estimator-id-3\" type=\"checkbox\" ><label for=\"sk-estimator-id-3\" class=\"sk-toggleable__label sk-toggleable__label-arrow\">RandomForestRegressor</label><div class=\"sk-toggleable__content\"><pre>RandomForestRegressor()</pre></div></div></div></div></div></div></div></div></div></div>"
      ],
      "text/plain": [
       "RandomizedSearchCV(cv=5, estimator=RandomForestRegressor(),\n",
       "                   param_distributions={'bootstrap': [True, False],\n",
       "                                        'max_depth': [10, 24, 38, 52, 66, 80,\n",
       "                                                      94, 108, 122, 136, 150],\n",
       "                                        'max_features': ['log2', 'sqrt'],\n",
       "                                        'min_samples_leaf': [1, 2, 4, 10, 20],\n",
       "                                        'min_samples_split': [2, 5, 10, 20],\n",
       "                                        'n_estimators': [100, 147, 194, 242,\n",
       "                                                         289, 336, 384, 431,\n",
       "                                                         478, 526, 573, 621,\n",
       "                                                         668, 715, 763, 810,\n",
       "                                                         857, 905, 952, 1000]})"
      ]
     },
     "execution_count": 2,
     "metadata": {},
     "output_type": "execute_result"
    }
   ],
   "source": [
    "\n",
    "# Preprocess the data\n",
    "singapore_preproccessor, singapore_X, singapore_y = prep_baseline.preprocess_data(singapore_df)\n",
    "singapore_X_transformed = singapore_preproccessor.fit_transform(singapore_X)\n",
    "ny_preproccessor, ny_X, ny_y = prep_baseline.preprocess_data(ny_df)\n",
    "madrid_preproccessor, madrid_X, madrid_y = prep_baseline.preprocess_data(madrid_df)\n",
    "\n",
    "\n",
    "# Split the data into training and testing sets\n",
    "singapore_X_train, singapore_X_test, singapore_y_train, singapore_y_test = train_test_split(singapore_X_transformed, singapore_y, test_size=0.3, random_state=42)\n",
    "\n",
    "rf_model = RandomForestRegressor()\n",
    "lin_model=LinearRegressor()\n",
    "gbm_model=GradientBoostingRegressor()\n",
    "\n",
    "n_estimators = [int(x) for x in np.linspace(start = 100, stop = 1000, num = 20)]\n",
    "max_features = ['log2', 'sqrt']\n",
    "max_depth = [int(x) for x in np.linspace(10, 150, num = 11)]\n",
    "min_samples_split = [2, 5, 10, 20]\n",
    "min_samples_leaf = [1, 2, 4, 10, 20]\n",
    "bootstrap = [True, False]\n",
    "\n",
    "parametrs = {'n_estimators': n_estimators,\n",
    "               'max_features': max_features,\n",
    "               'max_depth': max_depth,\n",
    "               'min_samples_split': min_samples_split,\n",
    "               'min_samples_leaf': min_samples_leaf,\n",
    "               'bootstrap': bootstrap}\n",
    "\n",
    "rnd_search_cv = RandomizedSearchCV(model, parametrs, cv=5)\n",
    "rnd_search_cv.fit(singapore_X_train, singapore_y_train)"
   ]
  },
  {
   "cell_type": "code",
   "execution_count": 4,
   "metadata": {},
   "outputs": [
    {
     "data": {
      "text/html": [
       "<style>#sk-container-id-1 {color: black;}#sk-container-id-1 pre{padding: 0;}#sk-container-id-1 div.sk-toggleable {background-color: white;}#sk-container-id-1 label.sk-toggleable__label {cursor: pointer;display: block;width: 100%;margin-bottom: 0;padding: 0.3em;box-sizing: border-box;text-align: center;}#sk-container-id-1 label.sk-toggleable__label-arrow:before {content: \"▸\";float: left;margin-right: 0.25em;color: #696969;}#sk-container-id-1 label.sk-toggleable__label-arrow:hover:before {color: black;}#sk-container-id-1 div.sk-estimator:hover label.sk-toggleable__label-arrow:before {color: black;}#sk-container-id-1 div.sk-toggleable__content {max-height: 0;max-width: 0;overflow: hidden;text-align: left;background-color: #f0f8ff;}#sk-container-id-1 div.sk-toggleable__content pre {margin: 0.2em;color: black;border-radius: 0.25em;background-color: #f0f8ff;}#sk-container-id-1 input.sk-toggleable__control:checked~div.sk-toggleable__content {max-height: 200px;max-width: 100%;overflow: auto;}#sk-container-id-1 input.sk-toggleable__control:checked~label.sk-toggleable__label-arrow:before {content: \"▾\";}#sk-container-id-1 div.sk-estimator input.sk-toggleable__control:checked~label.sk-toggleable__label {background-color: #d4ebff;}#sk-container-id-1 div.sk-label input.sk-toggleable__control:checked~label.sk-toggleable__label {background-color: #d4ebff;}#sk-container-id-1 input.sk-hidden--visually {border: 0;clip: rect(1px 1px 1px 1px);clip: rect(1px, 1px, 1px, 1px);height: 1px;margin: -1px;overflow: hidden;padding: 0;position: absolute;width: 1px;}#sk-container-id-1 div.sk-estimator {font-family: monospace;background-color: #f0f8ff;border: 1px dotted black;border-radius: 0.25em;box-sizing: border-box;margin-bottom: 0.5em;}#sk-container-id-1 div.sk-estimator:hover {background-color: #d4ebff;}#sk-container-id-1 div.sk-parallel-item::after {content: \"\";width: 100%;border-bottom: 1px solid gray;flex-grow: 1;}#sk-container-id-1 div.sk-label:hover label.sk-toggleable__label {background-color: #d4ebff;}#sk-container-id-1 div.sk-serial::before {content: \"\";position: absolute;border-left: 1px solid gray;box-sizing: border-box;top: 0;bottom: 0;left: 50%;z-index: 0;}#sk-container-id-1 div.sk-serial {display: flex;flex-direction: column;align-items: center;background-color: white;padding-right: 0.2em;padding-left: 0.2em;position: relative;}#sk-container-id-1 div.sk-item {position: relative;z-index: 1;}#sk-container-id-1 div.sk-parallel {display: flex;align-items: stretch;justify-content: center;background-color: white;position: relative;}#sk-container-id-1 div.sk-item::before, #sk-container-id-1 div.sk-parallel-item::before {content: \"\";position: absolute;border-left: 1px solid gray;box-sizing: border-box;top: 0;bottom: 0;left: 50%;z-index: -1;}#sk-container-id-1 div.sk-parallel-item {display: flex;flex-direction: column;z-index: 1;position: relative;background-color: white;}#sk-container-id-1 div.sk-parallel-item:first-child::after {align-self: flex-end;width: 50%;}#sk-container-id-1 div.sk-parallel-item:last-child::after {align-self: flex-start;width: 50%;}#sk-container-id-1 div.sk-parallel-item:only-child::after {width: 0;}#sk-container-id-1 div.sk-dashed-wrapped {border: 1px dashed gray;margin: 0 0.4em 0.5em 0.4em;box-sizing: border-box;padding-bottom: 0.4em;background-color: white;}#sk-container-id-1 div.sk-label label {font-family: monospace;font-weight: bold;display: inline-block;line-height: 1.2em;}#sk-container-id-1 div.sk-label-container {text-align: center;}#sk-container-id-1 div.sk-container {/* jupyter's `normalize.less` sets `[hidden] { display: none; }` but bootstrap.min.css set `[hidden] { display: none !important; }` so we also need the `!important` here to be able to override the default hidden behavior on the sphinx rendered scikit-learn.org. See: https://github.com/scikit-learn/scikit-learn/issues/21755 */display: inline-block !important;position: relative;}#sk-container-id-1 div.sk-text-repr-fallback {display: none;}</style><div id=\"sk-container-id-1\" class=\"sk-top-container\"><div class=\"sk-text-repr-fallback\"><pre>RandomizedSearchCV(cv=5, estimator=GradientBoostingRegressor(),\n",
       "                   param_distributions={&#x27;learning_rate&#x27;: [0.05, 0.1, 0.2],\n",
       "                                        &#x27;max_depth&#x27;: [3, 4, 5],\n",
       "                                        &#x27;min_samples_leaf&#x27;: [1, 2, 4],\n",
       "                                        &#x27;min_samples_split&#x27;: [2, 5, 10],\n",
       "                                        &#x27;n_estimators&#x27;: [100, 200, 300],\n",
       "                                        &#x27;subsample&#x27;: [0.8, 0.9, 1.0]})</pre><b>In a Jupyter environment, please rerun this cell to show the HTML representation or trust the notebook. <br />On GitHub, the HTML representation is unable to render, please try loading this page with nbviewer.org.</b></div><div class=\"sk-container\" hidden><div class=\"sk-item sk-dashed-wrapped\"><div class=\"sk-label-container\"><div class=\"sk-label sk-toggleable\"><input class=\"sk-toggleable__control sk-hidden--visually\" id=\"sk-estimator-id-1\" type=\"checkbox\" ><label for=\"sk-estimator-id-1\" class=\"sk-toggleable__label sk-toggleable__label-arrow\">RandomizedSearchCV</label><div class=\"sk-toggleable__content\"><pre>RandomizedSearchCV(cv=5, estimator=GradientBoostingRegressor(),\n",
       "                   param_distributions={&#x27;learning_rate&#x27;: [0.05, 0.1, 0.2],\n",
       "                                        &#x27;max_depth&#x27;: [3, 4, 5],\n",
       "                                        &#x27;min_samples_leaf&#x27;: [1, 2, 4],\n",
       "                                        &#x27;min_samples_split&#x27;: [2, 5, 10],\n",
       "                                        &#x27;n_estimators&#x27;: [100, 200, 300],\n",
       "                                        &#x27;subsample&#x27;: [0.8, 0.9, 1.0]})</pre></div></div></div><div class=\"sk-parallel\"><div class=\"sk-parallel-item\"><div class=\"sk-item\"><div class=\"sk-label-container\"><div class=\"sk-label sk-toggleable\"><input class=\"sk-toggleable__control sk-hidden--visually\" id=\"sk-estimator-id-2\" type=\"checkbox\" ><label for=\"sk-estimator-id-2\" class=\"sk-toggleable__label sk-toggleable__label-arrow\">estimator: GradientBoostingRegressor</label><div class=\"sk-toggleable__content\"><pre>GradientBoostingRegressor()</pre></div></div></div><div class=\"sk-serial\"><div class=\"sk-item\"><div class=\"sk-estimator sk-toggleable\"><input class=\"sk-toggleable__control sk-hidden--visually\" id=\"sk-estimator-id-3\" type=\"checkbox\" ><label for=\"sk-estimator-id-3\" class=\"sk-toggleable__label sk-toggleable__label-arrow\">GradientBoostingRegressor</label><div class=\"sk-toggleable__content\"><pre>GradientBoostingRegressor()</pre></div></div></div></div></div></div></div></div></div></div>"
      ],
      "text/plain": [
       "RandomizedSearchCV(cv=5, estimator=GradientBoostingRegressor(),\n",
       "                   param_distributions={'learning_rate': [0.05, 0.1, 0.2],\n",
       "                                        'max_depth': [3, 4, 5],\n",
       "                                        'min_samples_leaf': [1, 2, 4],\n",
       "                                        'min_samples_split': [2, 5, 10],\n",
       "                                        'n_estimators': [100, 200, 300],\n",
       "                                        'subsample': [0.8, 0.9, 1.0]})"
      ]
     },
     "execution_count": 4,
     "metadata": {},
     "output_type": "execute_result"
    }
   ],
   "source": [
    "from sklearn.ensemble import GradientBoostingRegressor\n",
    "\n",
    "# Preprocess the data\n",
    "singapore_preproccessor, singapore_X, singapore_y = prep_baseline.preprocess_data(singapore_df)\n",
    "singapore_X_transformed = singapore_preproccessor.fit_transform(singapore_X)\n",
    "\n",
    "# Split the data into training and testing sets\n",
    "singapore_X_train, singapore_X_test, singapore_y_train, singapore_y_test = train_test_split(singapore_X_transformed, singapore_y, test_size=0.3, random_state=42)\n",
    "\n",
    "# Define the GBM model\n",
    "model = GradientBoostingRegressor()\n",
    "\n",
    "# Define hyperparameters for tuning\n",
    "parametrs = {\n",
    "    'n_estimators': [100, 200, 300],  # Number of boosting stages to be run\n",
    "    'learning_rate': [0.05, 0.1, 0.2],  # Boosting learning rate\n",
    "    'max_depth': [3, 4, 5],  # Maximum depth of the individual estimators\n",
    "    'min_samples_split': [2, 5, 10],  # Minimum number of samples required to split an internal node\n",
    "    'min_samples_leaf': [1, 2, 4],  # Minimum number of samples required to be at a leaf node\n",
    "    'subsample': [0.8, 0.9, 1.0]  # Fraction of samples used for fitting the individual base learners\n",
    "}\n",
    "\n",
    "# Perform Randomized Search Cross Validation\n",
    "rnd_search_cv = RandomizedSearchCV(model, parametrs, cv=5)\n",
    "rnd_search_cv.fit(singapore_X_train, singapore_y_train)\n"
   ]
  },
  {
   "cell_type": "code",
   "execution_count": 3,
   "metadata": {},
   "outputs": [
    {
     "name": "stdout",
     "output_type": "stream",
     "text": [
      "MAE: 75.56751131152274\n",
      "MSE: 57299.51008290595\n",
      "RMSE: 239.3731607405182\n",
      "R2: 0.1073899107266103\n"
     ]
    }
   ],
   "source": [
    "predictions = rnd_search_cv.predict(singapore_X_test)\n",
    "\n",
    "#Mean Absolute Error \n",
    "print('MAE:', metrics.mean_absolute_error(singapore_y_test, predictions))\n",
    "\n",
    "#Mean Squared Error\n",
    "print('MSE:', metrics.mean_squared_error(singapore_y_test, predictions))\n",
    "\n",
    "\n",
    "#Root Mean Squared Error\n",
    "print('RMSE:', np.sqrt(metrics.mean_squared_error(singapore_y_test, predictions)))\n",
    "\n",
    "#R2\n",
    "print('R2:', metrics.r2_score(singapore_y_test, predictions))"
   ]
  },
  {
   "cell_type": "code",
   "execution_count": 5,
   "metadata": {},
   "outputs": [
    {
     "name": "stdout",
     "output_type": "stream",
     "text": [
      "Gradient Boosting Regressor Results\n",
      "MAE for gr: 86.95818144897702\n",
      "MSE: 74203.2711027741\n",
      "RMSE: 272.4027736693848\n",
      "R2: -0.15593638318356873\n"
     ]
    }
   ],
   "source": [
    "predictions = rnd_search_cv.predict(singapore_X_test)\n",
    "print('Gradient Boosting Regressor Results')\n",
    "#Mean Absolute Error \n",
    "print('MAE for gr:', metrics.mean_absolute_error(singapore_y_test, predictions))\n",
    "\n",
    "#Mean Squared Error\n",
    "print('MSE:', metrics.mean_squared_error(singapore_y_test, predictions))\n",
    "\n",
    "\n",
    "#Root Mean Squared Error\n",
    "print('RMSE:', np.sqrt(metrics.mean_squared_error(singapore_y_test, predictions)))\n",
    "\n",
    "#R2\n",
    "print('R2:', metrics.r2_score(singapore_y_test, predictions))"
   ]
  },
  {
   "cell_type": "code",
   "execution_count": null,
   "metadata": {},
   "outputs": [],
   "source": []
  },
  {
   "cell_type": "code",
   "execution_count": 6,
   "metadata": {},
   "outputs": [
    {
     "ename": "ValueError",
     "evalue": "Length of values (58) does not match length of index (20)",
     "output_type": "error",
     "traceback": [
      "\u001b[1;31m---------------------------------------------------------------------------\u001b[0m",
      "\u001b[1;31mValueError\u001b[0m                                Traceback (most recent call last)",
      "Cell \u001b[1;32mIn[6], line 1\u001b[0m\n\u001b[1;32m----> 1\u001b[0m pd\u001b[38;5;241m.\u001b[39mSeries(rnd_search_cv\u001b[38;5;241m.\u001b[39mbest_estimator_\u001b[38;5;241m.\u001b[39mfeature_importances_, index\u001b[38;5;241m=\u001b[39msingapore_df\u001b[38;5;241m.\u001b[39mcolumns)\u001b[38;5;241m.\u001b[39msort_values(ascending\u001b[38;5;241m=\u001b[39m\u001b[38;5;28;01mFalse\u001b[39;00m)\n",
      "File \u001b[1;32m~\\AppData\\Roaming\\Python\\Python311\\site-packages\\pandas\\core\\series.py:575\u001b[0m, in \u001b[0;36mSeries.__init__\u001b[1;34m(self, data, index, dtype, name, copy, fastpath)\u001b[0m\n\u001b[0;32m    573\u001b[0m     index \u001b[38;5;241m=\u001b[39m default_index(\u001b[38;5;28mlen\u001b[39m(data))\n\u001b[0;32m    574\u001b[0m \u001b[38;5;28;01melif\u001b[39;00m is_list_like(data):\n\u001b[1;32m--> 575\u001b[0m     com\u001b[38;5;241m.\u001b[39mrequire_length_match(data, index)\n\u001b[0;32m    577\u001b[0m \u001b[38;5;66;03m# create/copy the manager\u001b[39;00m\n\u001b[0;32m    578\u001b[0m \u001b[38;5;28;01mif\u001b[39;00m \u001b[38;5;28misinstance\u001b[39m(data, (SingleBlockManager, SingleArrayManager)):\n",
      "File \u001b[1;32m~\\AppData\\Roaming\\Python\\Python311\\site-packages\\pandas\\core\\common.py:573\u001b[0m, in \u001b[0;36mrequire_length_match\u001b[1;34m(data, index)\u001b[0m\n\u001b[0;32m    569\u001b[0m \u001b[38;5;250m\u001b[39m\u001b[38;5;124;03m\"\"\"\u001b[39;00m\n\u001b[0;32m    570\u001b[0m \u001b[38;5;124;03mCheck the length of data matches the length of the index.\u001b[39;00m\n\u001b[0;32m    571\u001b[0m \u001b[38;5;124;03m\"\"\"\u001b[39;00m\n\u001b[0;32m    572\u001b[0m \u001b[38;5;28;01mif\u001b[39;00m \u001b[38;5;28mlen\u001b[39m(data) \u001b[38;5;241m!=\u001b[39m \u001b[38;5;28mlen\u001b[39m(index):\n\u001b[1;32m--> 573\u001b[0m     \u001b[38;5;28;01mraise\u001b[39;00m \u001b[38;5;167;01mValueError\u001b[39;00m(\n\u001b[0;32m    574\u001b[0m         \u001b[38;5;124m\"\u001b[39m\u001b[38;5;124mLength of values \u001b[39m\u001b[38;5;124m\"\u001b[39m\n\u001b[0;32m    575\u001b[0m         \u001b[38;5;124mf\u001b[39m\u001b[38;5;124m\"\u001b[39m\u001b[38;5;124m(\u001b[39m\u001b[38;5;132;01m{\u001b[39;00m\u001b[38;5;28mlen\u001b[39m(data)\u001b[38;5;132;01m}\u001b[39;00m\u001b[38;5;124m) \u001b[39m\u001b[38;5;124m\"\u001b[39m\n\u001b[0;32m    576\u001b[0m         \u001b[38;5;124m\"\u001b[39m\u001b[38;5;124mdoes not match length of index \u001b[39m\u001b[38;5;124m\"\u001b[39m\n\u001b[0;32m    577\u001b[0m         \u001b[38;5;124mf\u001b[39m\u001b[38;5;124m\"\u001b[39m\u001b[38;5;124m(\u001b[39m\u001b[38;5;132;01m{\u001b[39;00m\u001b[38;5;28mlen\u001b[39m(index)\u001b[38;5;132;01m}\u001b[39;00m\u001b[38;5;124m)\u001b[39m\u001b[38;5;124m\"\u001b[39m\n\u001b[0;32m    578\u001b[0m     )\n",
      "\u001b[1;31mValueError\u001b[0m: Length of values (58) does not match length of index (20)"
     ]
    }
   ],
   "source": [
    "pd.Series(rnd_search_cv.best_estimator_.feature_importances_, index=singapore_df.columns).sort_values(ascending=False)"
   ]
  }
 ],
 "metadata": {
  "kernelspec": {
   "display_name": "Python 3 (ipykernel)",
   "language": "python",
   "name": "python3"
  },
  "language_info": {
   "codemirror_mode": {
    "name": "ipython",
    "version": 3
   },
   "file_extension": ".py",
   "mimetype": "text/x-python",
   "name": "python",
   "nbconvert_exporter": "python",
   "pygments_lexer": "ipython3",
   "version": "3.11.5"
  }
 },
 "nbformat": 4,
 "nbformat_minor": 4
}
