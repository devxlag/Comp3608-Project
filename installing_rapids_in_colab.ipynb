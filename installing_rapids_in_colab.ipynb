{
  "nbformat": 4,
  "nbformat_minor": 0,
  "metadata": {
    "colab": {
      "provenance": [],
      "gpuType": "T4"
    },
    "kernelspec": {
      "name": "python3",
      "display_name": "Python 3"
    },
    "language_info": {
      "name": "python"
    },
    "accelerator": "GPU"
  },
  "cells": [
    {
      "cell_type": "markdown",
      "source": [
        "## Installing Rapids libraries\n",
        "\n",
        "Note: This is expected to be run in Google Colab and you should go to either **Edit -> Notebook Settings** or **Runtime -> Change runtime type** and select **\"T4 GPU\"** before starting. This will set the notebook to utilise a free T4 GPU available with Colab notebooks.\n",
        "\n",
        "Note #2: Be wary of RAM utilisation (both System and GPU)\n",
        ". If you run out of RAM you'll need to restart your session via **Runtime -> Restart Session**.\n",
        "\n",
        "Run the following command:"
      ],
      "metadata": {
        "id": "BbI3uJtzj9Rw"
      }
    },
    {
      "cell_type": "code",
      "execution_count": null,
      "metadata": {
        "id": "6TNxCUJUZFAh"
      },
      "outputs": [],
      "source": [
        "# !pip install \\\n",
        "#     --extra-index-url=https://pypi.nvidia.com \\\n",
        "#     cudf-cu12==24.2.* dask-cudf-cu12==24.2.* cuml-cu12==24.2.* \\\n",
        "#     cugraph-cu12==24.2.* cuspatial-cu12==24.2.* cuproj-cu12==24.2.* \\\n",
        "#     cuxfilter-cu12==24.2.* cucim-cu12==24.2.* pylibraft-cu12==24.2.* \\\n",
        "#     raft-dask-cu12==24.2.*"
      ]
    },
    {
      "cell_type": "markdown",
      "source": [
        "### Here we do the exact same task with a basic T4 GPU vs a CPU and compare the performance."
      ],
      "metadata": {
        "id": "gAXfK7_12xhQ"
      }
    },
    {
      "cell_type": "code",
      "source": [
        "import cudf\n",
        "import time\n",
        "import pandas as pd\n",
        "import cupy as cp\n",
        "import numpy as np"
      ],
      "metadata": {
        "id": "F9v5NpZ7nxIy"
      },
      "execution_count": 1,
      "outputs": []
    },
    {
      "cell_type": "code",
      "source": [
        "size = 10000"
      ],
      "metadata": {
        "id": "h2qX0Hk_yaxy"
      },
      "execution_count": 2,
      "outputs": []
    },
    {
      "cell_type": "code",
      "source": [
        "df = cudf.DataFrame({'a': range(size*size), 'b': range(size*size)}) # create a simple cuDF DataFrame\n",
        "\n",
        "a_gpu = cp.random.rand(size, size)\n",
        "b_gpu = cp.random.rand(size, size)\n",
        "\n",
        "start_time = time.time()\n",
        "cumsum_gpu = df.cumsum()      # cumulative sum of a array with len = 100,000,000\n",
        "c_gpu = cp.dot(a_gpu, b_gpu)  # dot product of 2 10,000 x 10,000 matrices i.e very expensive operation\n",
        "end_time = time.time()\n",
        "cudf_time = end_time - start_time\n",
        "\n",
        "print(f\"CuDF Time Taken = {cudf_time} seconds\" )"
      ],
      "metadata": {
        "colab": {
          "base_uri": "https://localhost:8080/"
        },
        "id": "ZZJOMhBDZL2S",
        "outputId": "400f5f49-7769-4948-afc9-1fede99273d5"
      },
      "execution_count": 3,
      "outputs": [
        {
          "output_type": "stream",
          "name": "stdout",
          "text": [
            "CuDF Time Taken = 0.08619570732116699 seconds\n"
          ]
        }
      ]
    },
    {
      "cell_type": "code",
      "source": [
        "df = pd.DataFrame({'a': range(size*size), 'b': range(size*size)}) # create a simple pandas DataFrame\n",
        "\n",
        "a_cpu = np.random.rand(size, size)\n",
        "b_cpu = np.random.rand(size, size)\n",
        "\n",
        "start_time = time.time()\n",
        "cumsum_cpu = df.cumsum()     # cumulative sum of a array with len = 100,000,000\n",
        "c_cpu = np.dot(a_cpu, b_cpu) # dot product of 2 10,000 x 10,000 matrices i.e very expensive operation\n",
        "end_time = time.time()\n",
        "pd_time = end_time - start_time\n",
        "\n",
        "print(f\"Pandas DF Time Taken = {pd_time} seconds\" )"
      ],
      "metadata": {
        "id": "K-GesT1rcKrQ",
        "colab": {
          "base_uri": "https://localhost:8080/"
        },
        "outputId": "b5434cfd-0df9-4036-e72a-67b24275552c"
      },
      "execution_count": 6,
      "outputs": [
        {
          "output_type": "stream",
          "name": "stdout",
          "text": [
            "Pandas DF Time Taken = 63.24289321899414 seconds\n"
          ]
        }
      ]
    },
    {
      "cell_type": "code",
      "source": [
        "print(f\"GPU execution was {pd_time - cudf_time} seconds faster than CPU execution\")"
      ],
      "metadata": {
        "id": "eiHO5m4XnVl5",
        "colab": {
          "base_uri": "https://localhost:8080/"
        },
        "outputId": "557b3584-0b66-4de7-c49d-d97836c3b7ec"
      },
      "execution_count": 7,
      "outputs": [
        {
          "output_type": "stream",
          "name": "stdout",
          "text": [
            "GPU execution was 63.156697511672974 seconds faster than CPU execution\n"
          ]
        }
      ]
    },
    {
      "cell_type": "code",
      "source": [],
      "metadata": {
        "id": "HtwRzXbQnrSI"
      },
      "execution_count": null,
      "outputs": []
    }
  ]
}